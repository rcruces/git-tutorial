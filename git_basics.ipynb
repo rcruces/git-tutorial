{
 "cells": [
  {
   "cell_type": "markdown",
   "metadata": {},
   "source": [
    "# Git basics\n",
    "<img src=\"data/space_git.gif\" width=\"150\" align=\"left\">"
   ]
  },
  {
   "cell_type": "markdown",
   "metadata": {},
   "source": [
    "### 1. Change directory to your working directory\n",
    "```bash\n",
    "cd /Users/rcruces/git_repositories # << CHANGE this\n",
    "```"
   ]
  },
  {
   "cell_type": "markdown",
   "metadata": {},
   "source": [
    "### 2. Clone a repository\n",
    "```bash\n",
    "git clone https://github.com/rcruces/git-tutorial.git\n",
    "```"
   ]
  },
  {
   "cell_type": "markdown",
   "metadata": {},
   "source": [
    "### 3. Move to the directory \n",
    "```bash\n",
    "cd git-tutorial\n",
    "```\n",
    "\n",
    "### 4. Create a branch (use a different name)\n",
    "```bash\n",
    "git checkout -b NewBranch\n",
    "```"
   ]
  },
  {
   "cell_type": "markdown",
   "metadata": {},
   "source": [
    "### 5. In which branch I am?"
   ]
  },
  {
   "cell_type": "code",
   "execution_count": 120,
   "metadata": {},
   "outputs": [
    {
     "name": "stdout",
     "output_type": "stream",
     "text": [
      "M\tgit_basics.ipynb\n",
      "Switched to a new branch 'branch_RRC'\n",
      "  NewBranch\u001b[m\n",
      "* \u001b[32mbranch_RRC\u001b[m\n",
      "  main\u001b[m\n"
     ]
    }
   ],
   "source": [
    "! git checkout -b branch_RRC\n",
    "! git branch"
   ]
  },
  {
   "cell_type": "markdown",
   "metadata": {},
   "source": [
    "### 6. Move to the NewBranch"
   ]
  },
  {
   "cell_type": "code",
   "execution_count": 30,
   "metadata": {},
   "outputs": [
    {
     "name": "stdout",
     "output_type": "stream",
     "text": [
      "Already on 'NewBranch'\r\n"
     ]
    }
   ],
   "source": [
    "! git checkout NewBranch"
   ]
  },
  {
   "cell_type": "markdown",
   "metadata": {},
   "source": [
    "### 7. Create a new file with 10 random numbers (type whatever come to your mind)"
   ]
  },
  {
   "cell_type": "code",
   "execution_count": 59,
   "metadata": {},
   "outputs": [
    {
     "name": "stdout",
     "output_type": "stream",
     "text": [
      "24,45,76,90,32,34,23,1,7,18\n",
      "\u001b[01;34m.\u001b[00m\n",
      "├── README.md\n",
      "├── \u001b[01;34mdata\u001b[00m\n",
      "│   ├── README.md\n",
      "│   └── numbers_rrc.csv\n",
      "└── git_basics.ipynb\n",
      "\n",
      "1 directory, 4 files\n"
     ]
    }
   ],
   "source": [
    "! echo 24,45,76,90,32,34,23,1,7,18 > data/numbers_rrc.csv\n",
    "! cat data/numbers_rrc.csv \n",
    "! tree"
   ]
  },
  {
   "cell_type": "markdown",
   "metadata": {},
   "source": [
    "### 8. Check the status"
   ]
  },
  {
   "cell_type": "code",
   "execution_count": 52,
   "metadata": {},
   "outputs": [
    {
     "name": "stdout",
     "output_type": "stream",
     "text": [
      "On branch NewBranch\r\n",
      "Your branch is up to date with 'origin/NewBranch'.\r\n",
      "\r\n",
      "Untracked files:\r\n",
      "  (use \"git add <file>...\" to include in what will be committed)\r\n",
      "\r\n",
      "\t\u001b[31mgit_basics.ipynb\u001b[m\r\n",
      "\r\n",
      "nothing added to commit but untracked files present (use \"git add\" to track)\r\n"
     ]
    }
   ],
   "source": [
    "! git status"
   ]
  },
  {
   "cell_type": "markdown",
   "metadata": {},
   "source": [
    "### 9. Staging the changes"
   ]
  },
  {
   "cell_type": "code",
   "execution_count": 53,
   "metadata": {},
   "outputs": [
    {
     "name": "stdout",
     "output_type": "stream",
     "text": [
      "On branch NewBranch\r\n",
      "Your branch is up to date with 'origin/NewBranch'.\r\n",
      "\r\n",
      "Untracked files:\r\n",
      "  (use \"git add <file>...\" to include in what will be committed)\r\n",
      "\r\n",
      "\t\u001b[31mgit_basics.ipynb\u001b[m\r\n",
      "\r\n",
      "nothing added to commit but untracked files present (use \"git add\" to track)\r\n"
     ]
    }
   ],
   "source": [
    "! git add data/numbers_rrc.csv\n",
    "! git status"
   ]
  },
  {
   "cell_type": "markdown",
   "metadata": {},
   "source": [
    "### 10. Commit your changes with a meaningful comment"
   ]
  },
  {
   "cell_type": "code",
   "execution_count": 54,
   "metadata": {},
   "outputs": [
    {
     "name": "stdout",
     "output_type": "stream",
     "text": [
      "On branch NewBranch\r\n",
      "Your branch is up to date with 'origin/NewBranch'.\r\n",
      "\r\n",
      "Untracked files:\r\n",
      "\t\u001b[31mgit_basics.ipynb\u001b[m\r\n",
      "\r\n",
      "nothing added to commit but untracked files present\r\n"
     ]
    }
   ],
   "source": [
    "! git commit -m \"CREATE a new file with random numbers - rrc\""
   ]
  },
  {
   "cell_type": "markdown",
   "metadata": {},
   "source": [
    "### 11. Push your changes from your local workstation to the Remote repository (github)\n",
    "For the first time your have to push the newbranch that you just create. Use the following command:"
   ]
  },
  {
   "cell_type": "code",
   "execution_count": 55,
   "metadata": {},
   "outputs": [
    {
     "name": "stdout",
     "output_type": "stream",
     "text": [
      "Branch 'NewBranch' set up to track remote branch 'NewBranch' from 'origin'.\r\n",
      "Everything up-to-date\r\n"
     ]
    }
   ],
   "source": [
    "! git push --set-upstream origin NewBranch"
   ]
  },
  {
   "cell_type": "markdown",
   "metadata": {},
   "source": [
    "### 12. Add 10 more number to your `data/numbers_<id>.csv` file"
   ]
  },
  {
   "cell_type": "code",
   "execution_count": 67,
   "metadata": {},
   "outputs": [],
   "source": [
    "! echo $(cat data/numbers_rrc.csv),2,56,74,87,96,23,99,100,34,46 > tmp.txt && mv tmp.txt data/numbers_rrc.csv"
   ]
  },
  {
   "cell_type": "markdown",
   "metadata": {},
   "source": [
    "### 13. Check all changes with `git status`"
   ]
  },
  {
   "cell_type": "code",
   "execution_count": 74,
   "metadata": {},
   "outputs": [
    {
     "name": "stdout",
     "output_type": "stream",
     "text": [
      "On branch NewBranch\r\n",
      "Your branch is up to date with 'origin/NewBranch'.\r\n",
      "\r\n",
      "Changes not staged for commit:\r\n",
      "  (use \"git add <file>...\" to update what will be committed)\r\n",
      "  (use \"git checkout -- <file>...\" to discard changes in working directory)\r\n",
      "\r\n",
      "\t\u001b[31mmodified:   data/numbers_rrc.csv\u001b[m\r\n",
      "\r\n",
      "Untracked files:\r\n",
      "  (use \"git add <file>...\" to include in what will be committed)\r\n",
      "\r\n",
      "\t\u001b[31mgit_basics.ipynb\u001b[m\r\n",
      "\r\n",
      "no changes added to commit (use \"git add\" and/or \"git commit -a\")\r\n"
     ]
    }
   ],
   "source": [
    "! git status"
   ]
  },
  {
   "cell_type": "markdown",
   "metadata": {},
   "source": [
    "### 14. Check a file changes with `git diff`"
   ]
  },
  {
   "cell_type": "code",
   "execution_count": 76,
   "metadata": {},
   "outputs": [
    {
     "name": "stdout",
     "output_type": "stream",
     "text": [
      "\u001b[1mdiff --git a/data/numbers_rrc.csv b/data/numbers_rrc.csv\u001b[m\r\n",
      "\u001b[1mindex 5c6a370..0ee17f1 100644\u001b[m\r\n",
      "\u001b[1m--- a/data/numbers_rrc.csv\u001b[m\r\n",
      "\u001b[1m+++ b/data/numbers_rrc.csv\u001b[m\r\n",
      "\u001b[36m@@ -1 +1 @@\u001b[m\r\n",
      "\u001b[31m-24,45,76,90,32,34,23,1,7,18\u001b[m\r\n",
      "\u001b[32m+\u001b[m\u001b[32m24,45,76,90,32,34,23,1,7,18,2,56,74,87,96,23,99,100,34,46\u001b[m\r\n"
     ]
    }
   ],
   "source": [
    "! git diff data/numbers_rrc.csv"
   ]
  },
  {
   "cell_type": "markdown",
   "metadata": {},
   "source": [
    "### 15. Repeat: `add`, `commit`, `push`"
   ]
  },
  {
   "cell_type": "code",
   "execution_count": 79,
   "metadata": {},
   "outputs": [
    {
     "name": "stdout",
     "output_type": "stream",
     "text": [
      "On branch NewBranch\n",
      "Your branch is up to date with 'origin/NewBranch'.\n",
      "\n",
      "Untracked files:\n",
      "\t\u001b[31mgit_basics.ipynb\u001b[m\n",
      "\n",
      "nothing added to commit but untracked files present\n",
      "Everything up-to-date\n"
     ]
    }
   ],
   "source": [
    "! git add data/numbers_rrc.csv\n",
    "! git commit -m \"ADDED 10 more random number to my file data/numbers_rrc.csv\"\n",
    "! git push"
   ]
  },
  {
   "cell_type": "markdown",
   "metadata": {},
   "source": [
    "# merge to main branch\n",
    "### First let's see the log history"
   ]
  },
  {
   "cell_type": "code",
   "execution_count": 82,
   "metadata": {},
   "outputs": [
    {
     "name": "stdout",
     "output_type": "stream",
     "text": [
      "* \u001b[33me9b0c3b\u001b[m\u001b[33m (\u001b[m\u001b[1;36mHEAD -> \u001b[m\u001b[1;32mNewBranch\u001b[m\u001b[33m, \u001b[m\u001b[1;31morigin/NewBranch\u001b[m\u001b[33m)\u001b[m ADDED 10 more random number to my file data/numbers_rrc.csv\r\n",
      "* \u001b[33mefd7a8c\u001b[m CREATE a new file with random numbers - rrc\r\n",
      "* \u001b[33mc066bfd\u001b[m ADDED gitignore file\r\n",
      "* \u001b[33m9b4ba20\u001b[m\u001b[33m (\u001b[m\u001b[1;31morigin/main\u001b[m\u001b[33m, \u001b[m\u001b[1;31morigin/HEAD\u001b[m\u001b[33m, \u001b[m\u001b[1;32mmain\u001b[m\u001b[33m)\u001b[m Update README.md\r\n",
      "*   \u001b[33mf399eac\u001b[m Merge pull request #1 from rcruces/NewBranch\r\n",
      "\u001b[32m|\u001b[m\u001b[33m\\\u001b[m  \r\n",
      "\u001b[32m|\u001b[m * \u001b[33m94b8042\u001b[m INITIAL commit of data, I added a README file\r\n",
      "\u001b[32m|\u001b[m\u001b[32m/\u001b[m  \r\n",
      "* \u001b[33m7864b1c\u001b[m Initial commit\r\n"
     ]
    }
   ],
   "source": [
    "! git log --graph --decorate --oneline "
   ]
  },
  {
   "cell_type": "markdown",
   "metadata": {},
   "source": [
    "### Now let's merge our branch to main"
   ]
  },
  {
   "cell_type": "code",
   "execution_count": 84,
   "metadata": {},
   "outputs": [
    {
     "name": "stdout",
     "output_type": "stream",
     "text": [
      "Already on 'main'\n",
      "Your branch is up to date with 'origin/main'.\n",
      "From https://github.com/rcruces/git-tutorial\n",
      " * branch            main       -> FETCH_HEAD\n",
      "Already up to date.\n",
      "Already up to date.\n",
      "Everything up-to-date\n"
     ]
    }
   ],
   "source": [
    "! git checkout main\n",
    "! git pull origin main\n",
    "! git merge NewBranch\n",
    "! git push origin main"
   ]
  },
  {
   "cell_type": "markdown",
   "metadata": {},
   "source": [
    "## Any error? try git pull then push again\n",
    "```bash\n",
    "git pull\n",
    "git push\n",
    "```\n",
    "\n",
    "## Print the repository history on the terminal"
   ]
  },
  {
   "cell_type": "code",
   "execution_count": 115,
   "metadata": {},
   "outputs": [
    {
     "name": "stdout",
     "output_type": "stream",
     "text": [
      "*   \u001b[33md528682\u001b[m\u001b[33m (\u001b[m\u001b[1;36mHEAD -> \u001b[m\u001b[1;32mmain\u001b[m\u001b[33m, \u001b[m\u001b[1;31morigin/main\u001b[m\u001b[33m, \u001b[m\u001b[1;31morigin/HEAD\u001b[m\u001b[33m)\u001b[m Merge branch 'main' of https://github.com/rcruces/git-tutorial into main\r\n",
      "\u001b[31m|\u001b[m\u001b[32m\\\u001b[m  \r\n",
      "\u001b[31m|\u001b[m * \u001b[33m57ae4ad\u001b[m Update README.md\r\n",
      "* \u001b[32m|\u001b[m \u001b[33m6fb02a7\u001b[m ADDED slices and ipynb with the hands on tutorial\r\n",
      "\u001b[32m|\u001b[m\u001b[32m/\u001b[m  \r\n",
      "* \u001b[33me9b0c3b\u001b[m\u001b[33m (\u001b[m\u001b[1;31morigin/NewBranch\u001b[m\u001b[33m, \u001b[m\u001b[1;32mNewBranch\u001b[m\u001b[33m)\u001b[m ADDED 10 more random number to my file data/numbers_rrc.csv\r\n",
      "* \u001b[33mefd7a8c\u001b[m CREATE a new file with random numbers - rrc\r\n",
      "* \u001b[33mc066bfd\u001b[m ADDED gitignore file\r\n",
      "* \u001b[33m9b4ba20\u001b[m Update README.md\r\n",
      "*   \u001b[33mf399eac\u001b[m Merge pull request #1 from rcruces/NewBranch\r\n",
      "\u001b[33m|\u001b[m\u001b[34m\\\u001b[m  \r\n",
      "\u001b[33m|\u001b[m * \u001b[33m94b8042\u001b[m INITIAL commit of data, I added a README file\r\n",
      "\u001b[33m|\u001b[m\u001b[33m/\u001b[m  \r\n",
      "* \u001b[33m7864b1c\u001b[m Initial commit\r\n"
     ]
    }
   ],
   "source": [
    "! git log --graph --decorate --oneline "
   ]
  },
  {
   "cell_type": "markdown",
   "metadata": {},
   "source": [
    "## Homework\n",
    "1. Create a new repository `<your_username>.github.io`\n",
    "2. Follow the instructions here: https://pages.github.com\n",
    "3. Deploy your personal webpage!\n",
    "4. check your personal URL on a web browser: <your_username>.github.io\n",
    "5. Check more templates: https://jekyllthemes.io/github-pages-themes"
   ]
  },
  {
   "cell_type": "markdown",
   "metadata": {},
   "source": [
    "# Randomness?"
   ]
  },
  {
   "cell_type": "code",
   "execution_count": 119,
   "metadata": {},
   "outputs": [
    {
     "data": {
      "image/png": "[encoded data removed]",
      "text/plain": [
       "<Figure size 432x288 with 1 Axes>"
      ]
     },
     "metadata": {
      "needs_background": "light"
     },
     "output_type": "display_data"
    }
   ],
   "source": [
    "import matplotlib.pyplot as plt\n",
    "import numpy as np\n",
    "%matplotlib inline\n",
    "import numpy as np\n",
    "import glob\n",
    "\n",
    "# Read my data\n",
    "data = np.genfromtxt('data/numbers_rrc.csv', delimiter=',')\n",
    "\n",
    "# List all csv files\n",
    "files = sorted(glob.glob('data/*.csv'))\n",
    "\n",
    "# Read all files and stack them horizontally\n",
    "for f in files:\n",
    "    data = np.hstack((data, np.genfromtxt(f, delimiter=',')))\n",
    "\n",
    "# Random numbers distribution\n",
    "plt.hist(data, density=False, bins=10)  # density=False would make counts\n",
    "plt.ylabel('Frecuency')\n",
    "plt.xlabel('Data');"
   ]
  },
  {
   "cell_type": "code",
   "execution_count": null,
   "metadata": {},
   "outputs": [],
   "source": []
  }
 ],
 "metadata": {
  "kernelspec": {
   "display_name": "Python 3",
   "language": "python",
   "name": "python3"
  },
  "language_info": {
   "codemirror_mode": {
    "name": "ipython",
    "version": 3
   },
   "file_extension": ".py",
   "mimetype": "text/x-python",
   "name": "python",
   "nbconvert_exporter": "python",
   "pygments_lexer": "ipython3",
   "version": "3.7.7"
  }
 },
 "nbformat": 4,
 "nbformat_minor": 4
}
